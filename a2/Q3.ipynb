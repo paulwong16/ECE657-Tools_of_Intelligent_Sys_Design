{
 "cells": [
  {
   "cell_type": "markdown",
   "metadata": {
    "pycharm": {
     "name": "#%%\n"
    }
   },
   "source": [
    "### Code start here"
   ]
  },
  {
   "cell_type": "code",
   "execution_count": 1,
   "metadata": {
    "pycharm": {
     "name": "#%%\n"
    }
   },
   "outputs": [],
   "source": [
    "import numpy as np\n",
    "from sklearn.cluster import KMeans\n",
    "import matplotlib.pyplot as plt\n",
    "\n",
    "\n",
    "class RBFnn:\n",
    "    def __init__(self, X, y, center_method, sigma):\n",
    "        self.X = X\n",
    "        self.y = y\n",
    "        self.center_method = center_method\n",
    "        self.sigma = sigma\n",
    "        self.centers = None\n",
    "        self.w = None\n",
    "\n",
    "    def square_distance(self, X1, X2):\n",
    "        return np.dot((X1-X2).T, X1-X2)\n",
    "\n",
    "    def fit(self):\n",
    "        if self.center_method == 1:\n",
    "            self.centers = self.X\n",
    "        elif self.center_method == 2:\n",
    "            idx = np.random.randint(self.X.shape[0], size=150)\n",
    "            self.centers = self.X[idx, :]\n",
    "        elif self.center_method == 3:\n",
    "            kmeans = KMeans(n_clusters=150).fit(self.X)\n",
    "            self.centers = kmeans.cluster_centers_\n",
    "\n",
    "        G = np.array([[(1 / np.exp(-self.square_distance(x, c)/(2*(self.sigma**2)))) for c in self.centers] for x in self.X])\n",
    "        self.w = np.dot(np.dot(np.linalg.pinv(np.dot(G.T, G)), G.T), self.y)\n",
    "\n",
    "    def predict(self, X):\n",
    "        y_pred = np.dot(np.array([[(1 / np.exp(-self.square_distance(x, c) / (2 * (self.sigma ** 2)))) for c in self.centers] for x in X]), self.w)\n",
    "        return y_pred\n",
    "\n",
    "    def mse(self, y, y_pred):\n",
    "        N = y.shape[0]\n",
    "        return np.dot((y_pred-y).T, (y_pred-y))[0][0] / N\n",
    "    \n",
    "    def get_acc(self, y, y_pred):\n",
    "        corr = 0\n",
    "        for i in range(0, len(y)):\n",
    "            corr += 1 if (y[i] == y_pred[i]) else 0\n",
    "        return corr / len(y)\n",
    "\n"
   ]
  },
  {
   "cell_type": "markdown",
   "metadata": {},
   "source": [
    "### Prepare dataset"
   ]
  },
  {
   "cell_type": "code",
   "execution_count": 2,
   "metadata": {},
   "outputs": [],
   "source": [
    "data = np.array([[-2+0.2*i, -2+0.2*j] for i in range(21) for j in range(21)])\n",
    "label = np.array([[1] if x[0]**2+x[1]**2 <= 1 else [-1] for x in data])\n",
    "idx = np.random.permutation(data.shape[0])\n",
    "data = data[idx]\n",
    "label = label[idx]\n",
    "split_idx = int(441*0.8)\n",
    "train_data = data[:split_idx]\n",
    "train_label = label[:split_idx]\n",
    "test_data = data[split_idx:]\n",
    "test_label = label[split_idx:]"
   ]
  },
  {
   "cell_type": "markdown",
   "metadata": {},
   "source": [
    "### Q1"
   ]
  },
  {
   "cell_type": "code",
   "execution_count": 3,
   "metadata": {},
   "outputs": [
    {
     "data": {
      "image/png": "[encoded data removed]",
      "text/plain": [
       "<Figure size 432x288 with 1 Axes>"
      ]
     },
     "metadata": {
      "needs_background": "light"
     },
     "output_type": "display_data"
    },
    {
     "data": {
      "image/png": "[encoded data removed]",
      "text/plain": [
       "<Figure size 432x288 with 1 Axes>"
      ]
     },
     "metadata": {
      "needs_background": "light"
     },
     "output_type": "display_data"
    }
   ],
   "source": [
    "sigmas = [0.5, 1, 1.5, 2, 3, 4, 5, 10]\n",
    "mses = []\n",
    "test_accs = []\n",
    "train_accs = []\n",
    "for sigma in sigmas:\n",
    "    net = RBFnn(X=train_data, y=train_label, center_method=1, sigma=sigma)\n",
    "    net.fit()\n",
    "    # prediction on data\n",
    "    y_pred = net.predict(train_data)\n",
    "    mses.append(net.mse(train_label, y_pred))\n",
    "    # get final output with binary\n",
    "    y_output = np.where(y_pred < 0, -1, 1)\n",
    "    train_accs.append(net.get_acc(train_label, y_output))\n",
    "    y_pred = net.predict(test_data)\n",
    "    y_output = np.where(y_pred < 0, -1, 1)\n",
    "    test_accs.append(net.get_acc(test_label, y_output))\n",
    "plt.figure()\n",
    "plt.plot(sigmas, mses)\n",
    "plt.xlabel('Sigma')\n",
    "plt.ylabel('MSE')\n",
    "plt.show()\n",
    "plt.figure()\n",
    "plt.plot(sigmas, train_accs)\n",
    "plt.plot(sigmas, test_accs)\n",
    "plt.xlabel('Sigma')\n",
    "plt.ylabel('Accuracy')\n",
    "plt.legend(['Training Accuracy', 'Testing Accuracy'])\n",
    "plt.show()"
   ]
  },
  {
   "cell_type": "code",
   "execution_count": 4,
   "metadata": {},
   "outputs": [
    {
     "name": "stdout",
     "output_type": "stream",
     "text": [
      "[0.9356688417589732, 0.15446570568250234, 0.12165672689792893, 0.11888856747314284, 0.1476212299077261, 0.21810091320722239, 0.21207399308694122, 0.38242094488743034]\n",
      "[0.6448863636363636, 0.9744318181818182, 0.9886363636363636, 0.9829545454545454, 0.9829545454545454, 0.9772727272727273, 0.9772727272727273, 0.8806818181818182]\n",
      "[0.7303370786516854, 0.9438202247191011, 0.9775280898876404, 0.9887640449438202, 0.9887640449438202, 0.9662921348314607, 0.9775280898876404, 0.9325842696629213]\n"
     ]
    }
   ],
   "source": [
    "print(mses)\n",
    "print(train_accs)\n",
    "print(test_accs)"
   ]
  },
  {
   "cell_type": "markdown",
   "metadata": {},
   "source": [
    "#### According to MSE, Sigma = 2 is the best option, MSE:  0.118889, Train Accuracy = 0.983, Test Accuracy = 0.989"
   ]
  },
  {
   "cell_type": "markdown",
   "metadata": {},
   "source": [
    "### Q2(a)"
   ]
  },
  {
   "cell_type": "code",
   "execution_count": 8,
   "metadata": {},
   "outputs": [
    {
     "name": "stdout",
     "output_type": "stream",
     "text": [
      "0.9857954545454546\n",
      "0.9887640449438202\n"
     ]
    }
   ],
   "source": [
    "net = RBFnn(X=train_data, y=train_label, center_method=2, sigma=2)\n",
    "net.fit()\n",
    "y_pred = net.predict(train_data)\n",
    "y_output = np.where(y_pred < 0, -1, 1)\n",
    "print(net.get_acc(train_label, y_output))\n",
    "y_pred = net.predict(test_data)\n",
    "y_output = np.where(y_pred < 0, -1, 1)\n",
    "print(net.get_acc(test_label, y_output))"
   ]
  },
  {
   "cell_type": "markdown",
   "metadata": {},
   "source": [
    "#### When use 150 random center, Train Accuracy is 0.986, Test Accuracy is 0.989"
   ]
  },
  {
   "cell_type": "markdown",
   "metadata": {},
   "source": [
    "### Q2(b)"
   ]
  },
  {
   "cell_type": "code",
   "execution_count": 14,
   "metadata": {},
   "outputs": [
    {
     "name": "stdout",
     "output_type": "stream",
     "text": [
      "0.9886363636363636\n",
      "0.9887640449438202\n"
     ]
    }
   ],
   "source": [
    "net = RBFnn(X=train_data, y=train_label, center_method=3, sigma=2)\n",
    "net.fit()\n",
    "y_pred = net.predict(train_data)\n",
    "y_output = np.where(y_pred < 0, -1, 1)\n",
    "print(net.get_acc(train_label, y_output))\n",
    "y_pred = net.predict(test_data)\n",
    "y_output = np.where(y_pred < 0, -1, 1)\n",
    "print(net.get_acc(test_label, y_output))"
   ]
  },
  {
   "cell_type": "markdown",
   "metadata": {},
   "source": [
    "#### When use 150 K-means center, Train Accuracy is 0.989Test Accuracy is 0.989"
   ]
  },
  {
   "cell_type": "code",
   "execution_count": null,
   "metadata": {},
   "outputs": [],
   "source": []
  }
 ],
 "metadata": {
  "kernelspec": {
   "display_name": "Python 3",
   "language": "python",
   "name": "python3"
  },
  "language_info": {
   "codemirror_mode": {
    "name": "ipython",
    "version": 3
   },
   "file_extension": ".py",
   "mimetype": "text/x-python",
   "name": "python",
   "nbconvert_exporter": "python",
   "pygments_lexer": "ipython3",
   "version": "3.8.3"
  }
 },
 "nbformat": 4,
 "nbformat_minor": 1
}
